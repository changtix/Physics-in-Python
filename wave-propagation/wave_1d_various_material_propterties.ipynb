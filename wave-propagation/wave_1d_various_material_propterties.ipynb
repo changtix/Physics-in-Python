{
 "cells": [
  {
   "cell_type": "markdown",
   "id": "2cd696cb",
   "metadata": {},
   "source": [
    "### Introduction\n",
    "Consider to solve 1D wave equation in the domain of $(0 \\leq x \\leq L)\\times(0 \\leq t \\leq T)$ with various material propeties:\n",
    "$$ \\rho(x) \\frac{\\partial {^2 u(x,t)}}{\\partial{t^2}} = \\frac{\\partial}{\\partial x} \\left[E(x) \\frac{\\partial {u(x,t)}}{\\partial{x}} \\right] $$\n",
    "\n",
    "where $\\rho(x), E(x)$ are the density and Young's Modulus. <br/>\n",
    "Free boundary condition at $x=0$:\n",
    "$$\\frac{\\partial }{\\partial x} u(x=0, t) = 0$$\n",
    "Absorbing boundary condition at at $x=L$: \n",
    "$$c\\frac{\\partial}{\\partial x}u(x=L, t) + \\frac{\\partial}{\\partial t}u(x=L, t) = 0$$\n",
    "Initial conditions at $t=0$:\n",
    "$$u(x, t=0) = 0, \\frac{\\partial{u(x, t=0)}}{\\partial{t}} = 0$$\n",
    "Forced vibration at $x\\in[x_f, x_f+h_p]$: $T(x, t) = E(x)S(x, t) - e_{33} \\mathscr{E}(x,t)$, combined with $\\partial T(x) / \\partial x = \\rho(x) \\partial {^2 u(x,t)} / \\partial{t^2}$ produces\n",
    "\n",
    "$$\\rho(x) \\frac{\\partial {^2 u(x,t)}}{\\partial{t^2}} = \\frac{\\partial}{\\partial x} \\left[E(x) \\frac{\\partial {u(x,t)}}{\\partial{x}} \\right] - e_{33} \\frac{\\partial \\mathscr{E}(x,t)}{\\partial x} $$\n",
    "\n",
    "Observed signal is the open-circuit voltage difference between $x=x_f$ and $x=x_f$: $V_{oc}(t) = - \\int_{x_f}^{x_f+h_p} E(x,t) dx$\n",
    "\n",
    "Note that for open-circuit sensing: <br/>\n",
    "$D_{33}(x,t) = e_{33}S(x,t) + \\epsilon_{33} \\mathscr{E}(x,t) = 0$ <br/>\n",
    "$\\rightarrow \\mathscr{E}(x,t) = -e_{33}S(x,t) / \\epsilon_{33} $ <br/>\n",
    "$ \\rightarrow V_{oc}(t) = \\int_{x_f}^{x_f+h_p}e_{33}S(x,t) / \\epsilon_{33}dx = e_{33}[u(x_f+h_p,t)-u(x_f,t)] / \\epsilon_{33}$. <br/>\n",
    "Considering loading capacitor, the actual voltage is scaled by $\\eta<1$:\n",
    "$$V_{oc}(t) = \\frac{\\eta e_{33}} {\\epsilon_{33}} [u(x_f+h_p,t)-u(x_f,t)]$$"
   ]
  },
  {
   "cell_type": "markdown",
   "id": "10eb8531",
   "metadata": {},
   "source": [
    "### Finite Difference\n",
    "Now descretize both space and time with step of $\\Delta x$ and $\\Delta t$, respectively. Then the second-order derivatives can be replaced by central differences:\n",
    "$$\\frac{\\partial ^2}{\\partial t^2}u(x_m,t_n) \\approx \\frac{u^{n-1}_m - 2u^{n}_m + u^{n+1}_m}{\\Delta t^2}$$\n",
    "$$\\frac{\\partial ^2}{\\partial x^2}u(x_m,t_n) \\approx \\frac{u^n_{m-1} - 2u^{n}_m + u^n_{m+1}}{\\Delta x^2}$$\n",
    "$$\\frac{\\partial}{\\partial x}u(x_m,t_n) \\approx \\frac{-u^n_{m-1} + u^n_{m+1}}{2\\Delta x}$$\n",
    "where $m=1,2,...,M-1, n=2,...,N$. Note that:\n",
    "$$ \\frac{\\partial}{\\partial x} \\left[E(x) \\frac{\\partial {u(x,t)}}{\\partial{x}} \\right] = E(x)\\frac{\\partial ^2 u(x,t)}{\\partial x^2} + \\frac{\\partial E(x)}{\\partial x} \\frac{\\partial {u(x,t)}}{\\partial{x}}$$\n",
    "The wave equation becomes:\n",
    "$$\\rho_m\\frac{u^{n-1}_m - 2u^{n}_m + u^{n+1}_m}{\\Delta t^2} = E_m\\frac{u^n_{m-1} - 2u^{n}_m + u^n_{m+1}}{\\Delta x^2} + \\frac{-E_{m-1} + E_{m+1}}{2\\Delta x} \\frac{-u^n_{m-1} + u^n_{m+1}}{2\\Delta x}$$\n",
    "\n",
    "Which produces with $c_m=\\sqrt{E_m/\\rho_m}, c_{m-1}c_m \\approx E_{m-1}/\\rho_m, c_{m}c_{m+1} \\approx E_{m+1}/\\rho_m,r_m=c_m(\\Delta t/\\Delta x)$:\n",
    "\n",
    "$$u^{n+1}_m = \\left(r^2_m - \\frac{-r_{m-1}r_m + r_{m}r_{m+1}}{4}\\right) u^n_{m-1} + (2-2r^2_m)u^n_m + \\left(r^2_m + \\frac{-r_{m-1}r_m + r_{m}r_{m+1}}{4}\\right) u^n_{m+1} - u^{n-1}_m$$"
   ]
  },
  {
   "cell_type": "markdown",
   "id": "c37cc174",
   "metadata": {},
   "source": [
    "Now substitue the first-oder derivatives with difference:\n",
    "$$\\frac{\\partial}{\\partial t}u(x_m,t_n) \\approx \\frac{-u^{n}_m + u^{n+1}_m}{\\Delta t} $$\n",
    "$$\\frac{\\partial}{\\partial x}u(x_m,t_n) \\approx \\frac{-u^n_{m-1} + u^{n}_{m}}{\\Delta x} \\approx \\frac{-u^n_{m} + u^{n}_{m+1}}{\\Delta x}$$\n",
    "We can obtain: <br/>\n",
    "Free boundary condition at $x=0$: $u^n_{0}=u^n_1$; <br/>\n",
    "Absorbing boundary condition at $x=L$: $u^{n+1}_M= ru^n_{M-1} + (1-r) u^n_{M} $; <br/>\n",
    "Initial condition at $t=0$: $u^{0}_m=0, u^{1}_m= u^{0}_m$. <br/>\n",
    "Excitation condition $m \\in [f_1, f_2] = [f, f+h_p/\\Delta x]$: \n",
    "\n",
    "$$ \\rho_m\\frac{u^{n-1}_m - 2u^{n}_m + u^{n+1}_m}{\\Delta t^2} = E_m\\frac{u^n_{m-1} - 2u^{n}_m + u^n_{m+1}}{\\Delta x^2} + \\frac{-E_{m-1} + E_{m+1}}{2\\Delta x} \\frac{-u^n_{m-1} + u^n_{m+1}}{2\\Delta x} - e_{33} \\frac{-\\mathscr{E}^n_{m-1} + \\mathscr{E}^n_{m+1}}{2\\Delta x}$$\n",
    "Note that $ \\mathscr{E}^n_{m} = V^n/\\epsilon_{33} h_p $ if $m \\in [f_1, f_2]$, else $0$. Also note that $ e_{33} = Ed_{33}$, the contribution of last term to the FD equation becomes: <br/>\n",
    "$$p_1^n = -d_{33} r^2_{m} \\frac{V^n}{\\epsilon_{33} h_p} \\frac{\\Delta x}{2}$$ when $m=f_1$ <br/>\n",
    "$$p_2^n = d_{33} r^2_{m} \\frac{V^n}{\\epsilon_{33} h_p} \\frac{\\Delta x}{2} $$ when $m=f_2$ <br/>"
   ]
  },
  {
   "cell_type": "markdown",
   "id": "a2d68995",
   "metadata": {},
   "source": [
    "For speeding up computation, we want to express the above equations in Matrix formula:\n",
    "$$\\mathbf{u}^{n+1} = \\mathbf{Ku}^{n} - \\mathbf{Du}^{n-1} + \\mathbf{F}^{n}$$\n",
    "where $n>0$, $\\mathbf{u}^{n}=[u^n_0, u^n_1, u^n_2, \\cdots, u^n_M]^T$, \n",
    ", $\\mathbf{F}^{n}=[0,0,\\cdots,0,p_1,0,\\cdots,0,p_2,0,\\cdots,0]$, and\n",
    "$$ \\mathbf{K} = \\begin{bmatrix}\n",
    "r^2_1-\\frac{-r_0+r_2}{4}r_1   &   2-2r^2_1   & r^2_1+\\frac{-r_0+r_2}{4}r_1  &  & &\\\\\n",
    "r^2_1-\\frac{-r_0+r_2}{4}r_1 & 2-2r^2_1 & r^2_1+\\frac{-r_0+r_2}{4}r_1 &  & &\\\\\n",
    "& r^2_2-\\frac{-r_1+r_3}{4}r_2   & 2-2r^2_2 & r^2_2+\\frac{-r_1+r_3}{4}r_2 &  &\\\\\n",
    "& & \\ddots & \\ddots & \\ddots & \\\\\n",
    "& & & r^2_{M-1}-\\frac{-r_{M-2}+r_M}{4}r_{M-1} & 2-2r^2_{M-1} & r^2_{M-1}+\\frac{-r_{M-2}+r_M}{4}r_{M-1} \\\\\n",
    "& & & 0  & r_M & 1-r_M\n",
    "\\end{bmatrix}\n",
    "$$"
   ]
  },
  {
   "cell_type": "markdown",
   "id": "d6fe41ac",
   "metadata": {},
   "source": [
    "### Stability\n",
    "In order to be numerically stable, $r<1$ shall be satisfied! <br>\n",
    "[reference](https://hplgit.github.io/num-methods-for-PDEs/doc/pub/wave/pdf/wave-4print-A4-2up.pdf)"
   ]
  },
  {
   "cell_type": "code",
   "execution_count": 1,
   "id": "63243724",
   "metadata": {},
   "outputs": [],
   "source": [
    "import numpy as np\n",
    "import matplotlib.pyplot as plt"
   ]
  },
  {
   "cell_type": "code",
   "execution_count": 2,
   "id": "639b79fd",
   "metadata": {},
   "outputs": [
    {
     "name": "stdout",
     "output_type": "stream",
     "text": [
      "K = \n",
      " [[0.02777778 1.94444444 0.02777778 ... 0.         0.         0.        ]\n",
      " [0.02777778 1.94444444 0.02777778 ... 0.         0.         0.        ]\n",
      " [0.         0.02777778 1.94444444 ... 0.         0.         0.        ]\n",
      " ...\n",
      " [0.         0.         0.         ... 1.5        0.25       0.        ]\n",
      " [0.         0.         0.         ... 0.25       1.5        0.25      ]\n",
      " [0.         0.         0.         ... 0.         0.5        0.5       ]]\n"
     ]
    }
   ],
   "source": [
    "L = 500 # um\n",
    "dx = 1 # um\n",
    "Nx = int(L/dx)\n",
    "xgrid = np.arange(0, Nx+1)*dx\n",
    "\n",
    "cs = [1000, 2000, 3000] # m/s\n",
    "xs = [100, 110, L] #um\n",
    "xs0 = [0] + xs[:-1]\n",
    "cgrid = np.zeros_like(xgrid)\n",
    "for c,x,x0 in zip(cs,xs,xs0):\n",
    "    cgrid = np.where((xgrid<=x) & (xgrid>x0), c, cgrid)\n",
    "cgrid[0] = cs[0]\n",
    "\n",
    "T = 5 # us\n",
    "dt = 0.5*dx/max(cs) # us\n",
    "Nt = int(T/dt)\n",
    "tgrid = np.arange(0, Nt+1)*dt\n",
    "r =cgrid*dt/dx\n",
    "\n",
    "# construct K matrix\n",
    "dd = np.ones((Nx+1,1))\n",
    "dd[-1] = 0\n",
    "\n",
    "v2 = 2-2*r*r\n",
    "v2[0], v2[-1] = 0, 0\n",
    "\n",
    "v1 = r[1:]*r[1:]\n",
    "v1[0:-1] -= 0.25*(-r[:-2]+r[2:])*r[1:-1]\n",
    "v1[-1] = 0\n",
    "\n",
    "v3 = r[:-1]*r[:-1]\n",
    "v3[1:] += 0.25*(-r[:-2]+r[2:])*r[1:-1]\n",
    "v3[0] = 0\n",
    "\n",
    "K = np.diag(v2) + np.diag(v1,k=-1) + np.diag(v3,k=1)\n",
    "K[0,0] = v1[0]\n",
    "K[0,1] = v2[1]\n",
    "K[0,2] = v3[1]\n",
    "K[-1,-2] = r[-1]\n",
    "K[-1,-1] = -r[-1] + 1\n",
    "print(\"K = \\n\",K) # check whether K is right"
   ]
  },
  {
   "cell_type": "code",
   "execution_count": 3,
   "id": "f60554f1",
   "metadata": {},
   "outputs": [
    {
     "data": {
      "image/png": "[encoded data removed]",
      "text/plain": [
       "<Figure size 600x200 with 1 Axes>"
      ]
     },
     "metadata": {},
     "output_type": "display_data"
    }
   ],
   "source": [
    "# plot excitation signal\n",
    "t0 = 1 # us\n",
    "n0 = int(t0/dt)\n",
    "xf = xs[1] # um\n",
    "mf = int(xf/dx)\n",
    "xr = xs[0] # ums\n",
    "mr = int(xr/dx)\n",
    "hf = xf - xr\n",
    "\n",
    "d33 = 1\n",
    "e33 = 1\n",
    "ff = np.zeros_like(dd)\n",
    "ff[mr] = -d33*dx/(2*hf)\n",
    "ff[mf] = d33*dx/(2*hf)\n",
    "ff *= (r*r).reshape(dd.shape)\n",
    "\n",
    "freq = 5 # MHz\n",
    "def f(t):\n",
    "    return np.exp(-(t-t0/2)**2/(0.2*t0)**2)*np.sin(2*np.pi*freq*t)\n",
    "#     return np.exp(-(t-t0/2)**2/(0.1*t0)**2)\n",
    "\n",
    "exc_sig = f(tgrid)\n",
    "fig = plt.figure(figsize=[6,2])\n",
    "plt.plot(tgrid, exc_sig)\n",
    "plt.axvline(x=t0, color='orange', linestyle='--')\n",
    "plt.xlabel('t-us')\n",
    "plt.ylabel('signal')\n",
    "plt.title('excitation signal')\n",
    "plt.show()"
   ]
  },
  {
   "cell_type": "code",
   "execution_count": 4,
   "id": "80338460",
   "metadata": {},
   "outputs": [],
   "source": [
    "# core finite different algorithm\n",
    "# assume both \\epsilon_33 = 1\n",
    "def get_next(u_curr, u_prev, n):\n",
    "    # n = index of u_curr\n",
    "    u_next = K@u_curr - dd*u_prev + ff*exc_sig[n]\n",
    "    return u_next\n",
    "\n",
    "def wave_1d(u_ini):\n",
    "    u_prev = u_ini\n",
    "    u_curr = u_ini\n",
    "    \n",
    "    U = []\n",
    "    U.append(u_prev)\n",
    "    U.append(u_curr)\n",
    "    for n in range(1, Nt):\n",
    "        u_next = get_next(u_curr, u_prev, n)\n",
    "        u_prev = u_curr\n",
    "        u_curr = u_next\n",
    "        \n",
    "        U.append(u_next)\n",
    "    \n",
    "    U = np.concatenate(U, axis=1)\n",
    "    ur = (U[mf, :] - U[mr, :])*e33\n",
    "    \n",
    "    return U, ur"
   ]
  },
  {
   "cell_type": "code",
   "execution_count": 5,
   "id": "3a986b3a",
   "metadata": {},
   "outputs": [
    {
     "name": "stdout",
     "output_type": "stream",
     "text": [
      "3.035860776901245 s\n"
     ]
    }
   ],
   "source": [
    "# solve wave 1d\n",
    "import time\n",
    "ti = time.time()\n",
    "\n",
    "u_ini = np.zeros((Nx+1, 1)) # column vector\n",
    "U, ur = wave_1d(u_ini)\n",
    "\n",
    "tf = time.time()\n",
    "print(tf-ti, 's')"
   ]
  },
  {
   "cell_type": "code",
   "execution_count": 6,
   "id": "29eed3ca",
   "metadata": {},
   "outputs": [
    {
     "data": {
      "image/png": "[encoded data removed]",
      "text/plain": [
       "<Figure size 640x480 with 2 Axes>"
      ]
     },
     "metadata": {},
     "output_type": "display_data"
    }
   ],
   "source": [
    "# visualize results\n",
    "fig, ax = plt.subplots(2)\n",
    "xx,tt = np.meshgrid(xgrid, tgrid, indexing='ij')\n",
    "ax[0].pcolormesh(tt,xx,U)\n",
    "ax[0].axhline(y=xf, color='r', linestyle='-')\n",
    "ax[0].axhline(y=xr, color='orange', linestyle='-')\n",
    "ax[0].set_xlabel('t-us')\n",
    "ax[0].set_ylabel('x-um')\n",
    "\n",
    "ax[1].plot(tgrid, exc_sig, label='Tx')\n",
    "ax[1].plot(tgrid, ur, label='Rx')\n",
    "ax[1].set_xlabel('t-us')\n",
    "ax[1].set_ylabel('ur')\n",
    "ax[1].margins(x=0.0, y=0.1)\n",
    "ax[1].legend()\n",
    "fig.tight_layout()"
   ]
  },
  {
   "cell_type": "code",
   "execution_count": null,
   "id": "b71ed123",
   "metadata": {},
   "outputs": [],
   "source": [
    "# wave propagation in spacextime\n",
    "import time\n",
    "from IPython import display\n",
    "\n",
    "for i in range(0,Nt+1, 50):\n",
    "    try:\n",
    "        display.clear_output(wait=True)\n",
    "        plt.plot(xgrid, U[:, i])\n",
    "        plt.ylim((-5, 5))\n",
    "        plt.title(f't={tgrid[i]}')\n",
    "        plt.show()\n",
    "    except KeyboardInterrupt:\n",
    "        break"
   ]
  },
  {
   "cell_type": "markdown",
   "id": "f81cb793",
   "metadata": {},
   "source": [
    "### Validation\n",
    "We use method of lines (MOL) to validate the above solution. Descretizing ONLY the space with step of \n",
    "$\\Delta x$, then the second-order derivative w.r.t $x$ is expressed as:\n",
    "$$\\frac{d^2u_m(t)}{dt^2} = \\frac{E_m}{\\rho_m} \\frac{u^n_{m-1}(t) - 2u^{n}_m(t) + u^n_{m+1}(t)}{\\Delta x^2} + \\frac{-E_{m-1} + E_{m+1}}{\\rho_m} \\frac{-u^n_{m-1}(t) + u^n_{m+1}(t)}{4\\Delta x^2} - d_{33} \\frac{E_m}{\\rho_m} \\frac{-\\mathscr{E}_{m-1}(t) + \\mathscr{E}_{m+1}(t)}{2\\Delta x}$$\n",
    "plus:\n",
    "Free boundary condition at $x=0$: $u_{0}(t)=u_1(t)$; <br/>\n",
    "Absorbing boundary condition at $x=L$: $du_M(t)/dt= c(u^n_{M-1} - u^n_{M})/\\Delta x $; <br/>"
   ]
  },
  {
   "cell_type": "markdown",
   "id": "1462bcfc",
   "metadata": {},
   "source": [
    "For speeding up computation, we want to express the above equations in Matrix formula:\n",
    "$$\\frac{d^2 \\mathbf{u}(t)}{d t^2} = \\mathbf{Ku}(t)+\\mathbf{g}(t), \\frac{d \\mathbf{u}(0)}{d t} = \\mathbf{0}, \\mathbf{u}(0)=\\mathbf{0}$$\n",
    "\n",
    "where $\\mathbf{u}(t)=[u_0(t), u_1(t), u_2(t), \\cdots, u_M(t)]^T$, $\\mathbf{g}(t)=[0,0,\\cdots,0,p_1(t),0,\\cdots,0,p_2(t),\\cdots,0,\\cdots,0]^T$, and\n",
    "\n",
    "$$ \\mathbf{K} =  \\frac{1}{\\Delta x^2} \\begin{bmatrix}\n",
    "c_1^2-\\frac{-c_0+c_2}{4}c_1 & -2c_1^2 & c_1^2+\\frac{-c_0+c_2}{4}c_1  &  & &\\\\\n",
    "c_1^2-\\frac{-c_0+c_2}{4}c_1 & -2c_1^2 & c_1^2+\\frac{-c_0+c_2}{4}c_1 &  & &\\\\\n",
    "& c_2^2-\\frac{-c_1+c_3}{4}c_2   & -2c_2^2 & c_2^2+\\frac{-c_1+c_3}{4}c_2 &  &\\\\\n",
    "& & \\ddots & \\ddots & \\ddots & \\\\\n",
    "& & & c_{M-1}^2-\\frac{-c_{M-2}+c_M}{4}c_{M-1} & -2c_{M-1}^2 & c_{M-1}^2+\\frac{-c_{M-2}+c_M}{4}c_{M-1} \\\\\n",
    "& & &  &  c_M\\Delta x & -c_M\\Delta x\n",
    "\\end{bmatrix}\n",
    "$$\n",
    "and\n",
    "$$p_1(t) = -d_{33} c_{m} \\frac{V(t)}{\\epsilon_{33} h_p} \\frac{1}{2\\Delta x}$$ when $m=f_1$ <br/>\n",
    "$$p_2(t) = d_{33} c_{m} \\frac{V(t)}{\\epsilon_{33} h_p} \\frac{1}{2\\Delta x}$$ when $m=f_2$ <br/>"
   ]
  },
  {
   "cell_type": "markdown",
   "id": "7d5706ab",
   "metadata": {},
   "source": [
    "To reduce the order of derivation, let $\\mathbf{v}(t)=d \\mathbf{u}(t)/d t$, then:\n",
    "$$\\frac{d\\mathbf{v}(t)}{dt}=\\mathbf{Ku}(t)+\\mathbf{g}(t)$$\n",
    "Let $\\mathbf{w}(t) = [\\mathbf{u}(t), \\mathbf{v}(t)]^T$, reformulate all equations and initial conditions as\n",
    "$$\\frac{d \\mathbf{w}(t)}{d t} = \\mathbf{Hw}(t) + \\mathbf{q}(t), \\mathbf{q}(t)=[\\mathbf{0}^T, \\mathbf{g}^T]^T, \\mathbf{w}(0) = [\\mathbf{0}^T, \\mathbf{0}^T]^T$$\n",
    "where\n",
    "$$\\mathbf{H} = \\begin{bmatrix}\n",
    "\\mathbf{0} & \\mathbf{I}\\\\\n",
    "\\mathbf{K} & \\mathbf{0}\n",
    "\\end{bmatrix}\n",
    "$$"
   ]
  },
  {
   "cell_type": "code",
   "execution_count": null,
   "id": "68078156",
   "metadata": {},
   "outputs": [],
   "source": [
    "from scipy.integrate import odeint"
   ]
  },
  {
   "cell_type": "code",
   "execution_count": null,
   "id": "fbea3a86",
   "metadata": {},
   "outputs": [],
   "source": [
    "v2 = cgrid*cgrid*1.0\n",
    "v2[0], v2[-1] = 0, 0\n",
    "\n",
    "v1 = cgrid[1:]*cgrid[1:]*1.0\n",
    "v1[0:-1] -= 0.25*(-cgrid[:-2]+cgrid[2:])*cgrid[1:-1]\n",
    "v1[-1] = 0\n",
    "\n",
    "v3 = cgrid[:-1]*cgrid[:-1]*1.0\n",
    "v3[1:] += 0.25*(-cgrid[:-2]+cgrid[2:])*cgrid[1:-1]\n",
    "v3[0] = 0\n",
    "\n",
    "K = np.diag(v2) + np.diag(v1,k=-1) + np.diag(v3,k=1)\n",
    "K[0,0] = v1[0]\n",
    "K[0,1] = v2[1]\n",
    "K[0,2] = v3[1]\n",
    "K[-1,-2] = cgrid[-1]*dx\n",
    "K[-1,-1] = -cgrid[-1]*dx\n",
    "K /= dx^2\n",
    "print(\"K = \\n\",K) # check whether K is right"
   ]
  },
  {
   "cell_type": "code",
   "execution_count": null,
   "id": "b2b1dd4d",
   "metadata": {},
   "outputs": [],
   "source": [
    "I = np.eye(Nx+1)\n",
    "N = np.zeros([Nx+1]*2)\n",
    "H = np.block([[N, I],[K, N]])\n",
    "print(\"H = \\n\", H)"
   ]
  },
  {
   "cell_type": "code",
   "execution_count": null,
   "id": "af2a1132",
   "metadata": {},
   "outputs": [],
   "source": [
    "q = np.zeros(((Nx+1)*2,))\n",
    "\n",
    "# solve wave 1d\n",
    "def get_dydt(y,t):\n",
    "    q[Nx+1+xr] = -d33*cgrid[xr]**2*f(t)/(2*dx*hf)*1e6\n",
    "    q[Nx+1+xf] = d33*cgrid[xf]**2*f(t)/(2*dx*hf)*1e6\n",
    "    dydt = np.matmul(H, y) + q\n",
    "    return dydt \n",
    "\n",
    "u_ini = np.zeros((Nx+1,))\n",
    "v_ini = np.zeros((Nx+1,))\n",
    "\n",
    "w_ini = np.concatenate([u_ini, v_ini])\n",
    "\n",
    "sol = odeint(get_dydt, w_ini, tgrid)"
   ]
  },
  {
   "cell_type": "code",
   "execution_count": null,
   "id": "0580db43",
   "metadata": {},
   "outputs": [],
   "source": [
    "U_val = sol[:, :Nx+1].T\n",
    "ur_val = (U_val[mf, :] - U_val[mr, :])*e33"
   ]
  },
  {
   "cell_type": "code",
   "execution_count": null,
   "id": "18eda2ed",
   "metadata": {},
   "outputs": [],
   "source": [
    "# visualize results\n",
    "fig, ax = plt.subplots(2)\n",
    "xx,tt = np.meshgrid(xgrid, tgrid, indexing='ij')\n",
    "ax[0].pcolormesh(tt,xx,U_val)\n",
    "ax[0].axhline(y=xf, color='r', linestyle='-')\n",
    "ax[0].axhline(y=xr, color='orange', linestyle='-')\n",
    "ax[0].set_xlabel('t-us')\n",
    "ax[0].set_ylabel('x-um')\n",
    "\n",
    "ax[1].plot(tgrid, ur, label='FD')\n",
    "ax[1].plot(tgrid, ur_val, label='MOL')\n",
    "ax[1].set_xlabel('t-us')\n",
    "ax[1].set_ylabel('ur')\n",
    "ax[1].margins(x=0.0, y=0.1)\n",
    "ax[1].legend()\n",
    "fig.tight_layout()"
   ]
  },
  {
   "cell_type": "markdown",
   "id": "dc253c98",
   "metadata": {},
   "source": [
    "The FD solution is validated by MOL"
   ]
  },
  {
   "cell_type": "code",
   "execution_count": null,
   "id": "9123d8aa",
   "metadata": {},
   "outputs": [],
   "source": []
  }
 ],
 "metadata": {
  "hide_input": false,
  "kernelspec": {
   "display_name": "Python 3 (ipykernel)",
   "language": "python",
   "name": "python3"
  },
  "language_info": {
   "codemirror_mode": {
    "name": "ipython",
    "version": 3
   },
   "file_extension": ".py",
   "mimetype": "text/x-python",
   "name": "python",
   "nbconvert_exporter": "python",
   "pygments_lexer": "ipython3",
   "version": "3.8.6"
  }
 },
 "nbformat": 4,
 "nbformat_minor": 5
}
